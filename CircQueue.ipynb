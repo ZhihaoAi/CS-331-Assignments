{
 "cells": [
  {
   "cell_type": "markdown",
   "metadata": {},
   "source": [
    "# Circular, Array-backed Queue"
   ]
  },
  {
   "cell_type": "markdown",
   "metadata": {},
   "source": [
    "## Overview\n",
    "\n",
    "For this assignment you will implement a circular, array-backed queue data structure.\n",
    "\n",
    "In the following class, which you are to complete, the backing array will be created and populated with `None`s in the `__init__` method, and the `head` and `tail` indexes set to sentinel values (you shouldn't need to modify `__init__`). Enqueueing and Dequeueing items will take place at the tail and head, with `tail` and `head` tracking the position of the most recently enqueued item and that of the next item to dequeue, respectively. To simplify testing, your implementation should make sure that when dequeuing an item its slot in the array is reset to `None`, and when the queue is emptied its `head` and `tail` attributes should be set to `-1`.\n",
    "\n",
    "Because of the fixed size backing array, the `enqueue` operation is defined to raise a `RuntimeError` when the queue is full — the same exception should be raised when `dequeue` is called on an empty queue.\n",
    "\n",
    "Finally, the `resize` method will allow the array underlying the queue to be increased in size. It is up to you how to implement this (you can either leave the elements in their current positions, though this may require \"unwrapping\" elements, or you can simply move all elements towards the front of the array). You may assume that `resize` will only be called with a value greater than the current length of the underlying array."
   ]
  },
  {
   "cell_type": "code",
   "execution_count": 151,
   "metadata": {
    "collapsed": false
   },
   "outputs": [],
   "source": [
    "class Queue:\n",
    "    def __init__(self, limit=10):\n",
    "        self.data = [None] * limit\n",
    "        self.head = -1\n",
    "        self.tail = -1\n",
    "\n",
    "    def enqueue(self, val):\n",
    "        if self.data.count(None)==0:\n",
    "            raise RuntimeError\n",
    "        if self.head<0:\n",
    "            self.head=self.tail=0\n",
    "        else:\n",
    "            self.tail=(self.tail+1)%len(self.data)\n",
    "        self.data[self.tail]=val\n",
    "        \n",
    "    def dequeue(self):\n",
    "        if self.empty():\n",
    "            raise RuntimeError\n",
    "        val=self.data[self.head]\n",
    "        self.data[self.head]=None\n",
    "        self.head=(self.head+1)%len(self.data)\n",
    "        if self.data[self.head]==None:\n",
    "            self.head=self.tail=-1\n",
    "        return val\n",
    "    \n",
    "    def resize(self, newsize):\n",
    "        assert(len(self.data) < newsize)\n",
    "        oldsize=len(self.data)\n",
    "        newdata=[None] * newsize\n",
    "        for i in range(self.head, self.tail+oldsize+1):\n",
    "            newdata[i%newsize]=self.data[i%oldsize]\n",
    "        self.tail=(self.tail+oldsize)%newsize\n",
    "        self.data=newdata\n",
    "    \n",
    "    def empty(self):\n",
    "        return True if self.data.count(None)==len(self.data) else False\n",
    "    \n",
    "    def __bool__(self):\n",
    "        return not self.empty()\n",
    "    \n",
    "    def __str__(self):\n",
    "        if not(self):\n",
    "            return ''\n",
    "        return ', '.join(str(x) for x in self)\n",
    "    \n",
    "    def __repr__(self):\n",
    "        return str(self)\n",
    "    \n",
    "    def __iter__(self):\n",
    "        p=self.head\n",
    "        l=len(self.data)\n",
    "        for i in range(l):\n",
    "            if self.data[p]!=None:\n",
    "                yield self.data[p]\n",
    "            p=(p+1)%l"
   ]
  },
  {
   "cell_type": "code",
   "execution_count": 152,
   "metadata": {
    "collapsed": false
   },
   "outputs": [],
   "source": [
    "from unittest import TestCase\n",
    "tc = TestCase()\n",
    "\n",
    "q = Queue(5)\n",
    "tc.assertEqual(q.data, [None] * 5)\n",
    "\n",
    "for i in range(5):\n",
    "    q.enqueue(i)\n",
    "    \n",
    "with tc.assertRaises(RuntimeError):\n",
    "    q.enqueue(5)\n",
    "\n",
    "for i in range(5):\n",
    "    tc.assertEqual(q.dequeue(), i)\n",
    "    \n",
    "tc.assertTrue(q.empty())"
   ]
  },
  {
   "cell_type": "code",
   "execution_count": 153,
   "metadata": {
    "collapsed": false
   },
   "outputs": [],
   "source": [
    "from unittest import TestCase\n",
    "tc = TestCase()\n",
    "\n",
    "q = Queue(10)\n",
    "\n",
    "for i in range(6):\n",
    "    q.enqueue(i)\n",
    "    \n",
    "tc.assertEqual(q.data.count(None), 4)\n",
    "\n",
    "for i in range(5):\n",
    "    q.dequeue()\n",
    "    \n",
    "tc.assertFalse(q.empty())\n",
    "tc.assertEqual(q.data.count(None), 9)\n",
    "tc.assertEqual(q.head, q.tail)\n",
    "tc.assertEqual(q.head, 5)\n",
    "\n",
    "for i in range(9):\n",
    "    q.enqueue(i)\n",
    "\n",
    "with tc.assertRaises(RuntimeError):\n",
    "    q.enqueue(10)\n",
    "\n",
    "for x, y in zip(q, [5] + list(range(9))):\n",
    "    tc.assertEqual(x, y)\n",
    "    \n",
    "tc.assertEqual(q.dequeue(), 5)\n",
    "for i in range(9):\n",
    "    tc.assertEqual(q.dequeue(), i)\n",
    "\n",
    "tc.assertTrue(q.empty())"
   ]
  },
  {
   "cell_type": "code",
   "execution_count": 154,
   "metadata": {
    "collapsed": false
   },
   "outputs": [],
   "source": [
    "from unittest import TestCase\n",
    "tc = TestCase()\n",
    "\n",
    "q = Queue(5)\n",
    "for i in range(5):\n",
    "    q.enqueue(i)\n",
    "for i in range(4):\n",
    "    q.dequeue()\n",
    "for i in range(5, 9):\n",
    "    q.enqueue(i)\n",
    "    \n",
    "with tc.assertRaises(RuntimeError):\n",
    "    q.enqueue(10)\n",
    "\n",
    "q.resize(10)\n",
    "\n",
    "for x, y in zip(q, range(4, 9)):\n",
    "    tc.assertEqual(x, y)\n",
    "    \n",
    "for i in range(9, 14):\n",
    "    q.enqueue(i)\n",
    "\n",
    "for i in range(4, 14):\n",
    "    \n",
    "    tc.assertEqual(q.dequeue(), i)\n",
    "    \n",
    "tc.assertTrue(q.empty())\n",
    "tc.assertEqual(q.head, -1)"
   ]
  },
  {
   "cell_type": "code",
   "execution_count": 155,
   "metadata": {
    "collapsed": false
   },
   "outputs": [],
   "source": [
    "from unittest import TestCase\n",
    "tc = TestCase()\n",
    "\n",
    "q = Queue(5)\n",
    "for i in range(5):\n",
    "    q.enqueue(i)\n",
    "for i in range(4):\n",
    "    q.dequeue()\n",
    "for i in range(5, 9):\n",
    "    q.enqueue(i)\n",
    "    \n",
    "with tc.assertRaises(RuntimeError):\n",
    "    q.enqueue(10)\n",
    "\n",
    "q.resize(10)\n",
    "\n",
    "for x, y in zip(q, range(4, 9)):\n",
    "    tc.assertEqual(x, y)\n",
    "    \n",
    "for i in range(9, 14):\n",
    "    q.enqueue(i)\n",
    "\n",
    "for i in range(4, 14):\n",
    "    tc.assertEqual(q.dequeue(), i)\n",
    "    \n",
    "tc.assertTrue(q.empty())\n",
    "tc.assertEqual(q.head, -1)"
   ]
  },
  {
   "cell_type": "code",
   "execution_count": null,
   "metadata": {
    "collapsed": true
   },
   "outputs": [],
   "source": []
  }
 ],
 "metadata": {
  "kernelspec": {
   "display_name": "Python 3",
   "language": "python",
   "name": "python3"
  },
  "language_info": {
   "codemirror_mode": {
    "name": "ipython",
    "version": 3
   },
   "file_extension": ".py",
   "mimetype": "text/x-python",
   "name": "python",
   "nbconvert_exporter": "python",
   "pygments_lexer": "ipython3",
   "version": "3.5.2"
  }
 },
 "nbformat": 4,
 "nbformat_minor": 0
}
